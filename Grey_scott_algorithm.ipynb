{
 "cells": [
  {
   "attachments": {},
   "cell_type": "markdown",
   "metadata": {},
   "source": [
    "# Turing Patterns\n",
    "The Turing pattern is a concept introduced by English mathematician Alan Turing in a 1952 paper titled \"The Chemical Basis of Morphogenesis\" which describes how patterns in nature, such as stripes and spots, can arise naturally and autonomously from a homogeneous, uniform state.\n",
    "\n",
    "## Reaction-Diffusion Equation\n",
    "\n",
    "Reaction–diffusion systems are mathematical models which correspond to several physical phenomena. The most common is the change in space and time of the concentration of one or more chemical substances: local chemical reactions in which the substances are transformed into each other, and diffusion which causes the substances to spread out over a surface in space. - wiki\n",
    "\n",
    "#### Gray - Scott model\n",
    "A simulation of two virtual chemicals reacting and diffusing on a 2D grid using the Gray-Scott model.\n",
    "- Chemical A is added at a given \"feed\" rate.\n",
    "- Chemical B is removed at a given \"kill\" rate.\t\n",
    "- Reaction: two Bs convert an A into B, as if B reproduces using A as food.\n",
    "- Diffusion: both chemicals diffuse so uneven concentrations spread out across the grid, but A diffuses faster than B.\n",
    "- The system is approximated by using two numbers at each grid cell for the local concentrations of A and B.\n",
    "- When a grid of thousands of cells is simulated, larger scale patterns can emerge.\n",
    "- The grid is repeatedly updated using the following equations to update the concentrations of A and B in each cell, and model the behaviors described above.\n",
    "\n",
    "\n",
    "$$ \\frac{\\partial A}{\\partial t} = D_A \\nabla^2{A} - AB^2 + f(1-A) $$ \n",
    "$$ \\frac{\\partial B}{\\partial t} = D_B \\nabla^2{B} + AB^2 - (f+k)B $$\n",
    "\n",
    "Here, $A$ and $B$ represent the concentrations of each chemical. $D_A$ and $D_B$ represent the diffusion rates. $f$ and $k$ are the feed and kill rates respectively.\n",
    "\n",
    "Thus, the new values of A and B will be\n",
    "$$ A' = A + (D_A \\nabla^2{A} - AB^2 + f(1-A))\\Delta t$$ \n",
    "$$ B' = B + (D_B \\nabla^2{B} + AB^2 - (f+k)B)\\Delta t$$ "
   ]
  },
  {
   "cell_type": "code",
   "execution_count": 1,
   "metadata": {},
   "outputs": [
    {
     "data": {
      "text/plain": [
       "1"
      ]
     },
     "metadata": {},
     "output_type": "display_data"
    }
   ],
   "source": [
    " using Plots\n",
    "\n",
    "#Define the parameters\n",
    "Da = 1\n",
    "Db = 0.5\n",
    "\n",
    "#Labyrinth\n",
    "f = 0.055\n",
    "k = 0.062\n",
    "n = 500\n",
    "dt = 1\n",
    "\n",
    "#Worms\n",
    "#f = 0.050\n",
    "#k = 0.065\n",
    "\n",
    "#Spots\n",
    "#f = 0.042\n",
    "#k = 0.065\n",
    "\n"
   ]
  },
  {
   "cell_type": "code",
   "execution_count": null,
   "metadata": {},
   "outputs": [],
   "source": [
    "#Initialise grid\n",
    "grid = zeros(Float64, n, n, 2)\n",
    "grid[:,:, 1] .= 1\n",
    "\n",
    "#Set up initial condition\n",
    "for i in 1:100\n",
    "    r = rand(25:n-25)\n",
    "    s = rand(25:n-25)\n",
    "    grid[r:r+1, s:s+1, 2] .= 1\n",
    "end"
   ]
  },
  {
   "attachments": {},
   "cell_type": "markdown",
   "metadata": {},
   "source": [
    "### Laplacian\n"
   ]
  },
  {
   "cell_type": "code",
   "execution_count": null,
   "metadata": {},
   "outputs": [],
   "source": [
    "#=Define Laplacian function\n",
    "function Laplacian(a, x, y, grid)\n",
    "    if 1<x<n && 1<y<n\n",
    "        lap = -grid[x, y, a]\n",
    "        lap += (grid[x+1, y, a] + grid[x-1, y, a] + grid[x, y+1, a] + grid[x, y-1, a])*0.2\n",
    "        lap += (grid[x+1, y+1, a] + grid[x+1, y-1, a] + grid[x-1, y+1, a] + grid[x-1, y-1, a])*0.05\n",
    "    elseif x == 1 && y == 1\n",
    "        lap = -grid[x, y, a]\n",
    "        lap += (grid[x+1, y, a] + grid[n, y, a] + grid[x, y+1, a] + grid[x, n, a])*0.2\n",
    "        lap += (grid[x+1, y+1, a] + grid[x+1, n, a] + grid[n, y+1, a] + grid[n, n, a])*0.05\n",
    "    elseif x == n && y == 1\n",
    "        lap = -grid[x, y, a]\n",
    "        lap += (grid[1, y, a] + grid[x-1, y, a] + grid[x, y+1, a] + grid[x, n, a])*0.2\n",
    "        lap += (grid[1, y+1, a] + grid[1, n, a] + grid[x-1, y+1, a] + grid[x-1, n, a])*0.05\n",
    "    elseif x == 1 && y == n\n",
    "        lap = -grid[x, y, a]\n",
    "        lap += (grid[x+1, y, a] + grid[n, y, a] + grid[x, 1, a] + grid[x, y-1, a])*0.2\n",
    "        lap += (grid[x+1, 1, a] + grid[x+1, y-1, a] + grid[n, 1, a] + grid[n, y-1, a])*0.05\n",
    "    elseif x == n && y == n\n",
    "        lap = -grid[x, y, a]\n",
    "        lap += (grid[1, y, a] + grid[x-1, y, a] + grid[x, 1, a] + grid[x, y-1, a])*0.2\n",
    "        lap += (grid[1, 1, a] + grid[1, y-1, a] + grid[x-1, 1, a] + grid[x-1, y-1, a])*0.05\n",
    "    elseif x == 1\n",
    "        lap = -grid[x, y, a]\n",
    "        lap += (grid[x+1, y, a] + grid[n, y, a] + grid[x, y+1, a] + grid[x, y-1, a])*0.2\n",
    "        lap += (grid[x+1, y+1, a] + grid[x+1, y-1, a] + grid[n, y+1, a] + grid[n, y-1, a])*0.05\n",
    "    elseif x == n\n",
    "        lap = -grid[x, y, a]\n",
    "        lap += (grid[1, y, a] + grid[x-1, y, a] + grid[x, y+1, a] + grid[x, y-1, a])*0.2\n",
    "        lap += (grid[1, y+1, a] + grid[1, y-1, a] + grid[x-1, y+1, a] + grid[x-1, y-1, a])*0.05\n",
    "    elseif y == 1\n",
    "        lap = -grid[x, y, a]\n",
    "        lap += (grid[x+1, y, a] + grid[x-1, y, a] + grid[x, y+1, a] + grid[x, n, a])*0.2\n",
    "        lap += (grid[x+1, y+1, a] + grid[x+1, n, a] + grid[x-1, y+1, a] + grid[x-1, n, a])*0.05\n",
    "    elseif y == n\n",
    "        lap = -grid[x, y, a]\n",
    "        lap += (grid[x+1, y, a] + grid[x-1, y, a] + grid[x, 1, a] + grid[x, y-1, a])*0.2\n",
    "        lap += (grid[x+1, 1, a] + grid[x+1, y-1, a] + grid[x-1, 1, a] + grid[x-1, y-1, a])*0.05\n",
    "    end\n",
    "    return lap\n",
    "end\n",
    "=#"
   ]
  },
  {
   "cell_type": "code",
   "execution_count": null,
   "metadata": {},
   "outputs": [],
   "source": [
    "#Define wrap function\n",
    "function wrap(x)\n",
    "    if x < 1\n",
    "        x = n\n",
    "    elseif x > n \n",
    "        x = 1\n",
    "    end\n",
    "    return x\n",
    "end\n",
    "#Define Laplacian function\n",
    "function Laplacian(a, x, y, grid)\n",
    "    lap = -grid[x, y, a]\n",
    "    lap += (grid[wrap(x+1), y, a] + grid[wrap(x-1), y, a] + grid[x, wrap(y+1), a] + grid[x, wrap(y-1), a])*0.2\n",
    "    lap += (grid[wrap(x+1), wrap(y+1), a] + grid[wrap(x+1), wrap(y-1), a] + grid[wrap(x-1), wrap(y+1), a] + grid[wrap(x-1), wrap(y-1), a])*0.05\n",
    "    return lap\n",
    "end"
   ]
  },
  {
   "cell_type": "code",
   "execution_count": null,
   "metadata": {},
   "outputs": [],
   "source": [
    "# new_grid = copy(grid)\n",
    "\n",
    "# La = zeros(n,n)\n",
    "# Lb = zeros(n,n)\n",
    "# A = new_grid[:,:,1]\n",
    "# B = new_grid[:,:,2]\n",
    "# for p in 1:1000\n",
    "#     for x in 1:n\n",
    "#         for y in 1:n\n",
    "#             La[x,y] = Laplacian(1, x, y, grid)\n",
    "#             Lb[x,y] = Laplacian(2, x, y, grid)\n",
    "#         end\n",
    "#     end\n",
    "#     # A .= max(0, min(A, 1))\n",
    "#     # new_grid[:, :, 2] = max(0, min(new_grid[:, :, 2], 1))\n",
    "\n",
    "#     A += (Da .* La .- A .*B .*B .+ f .*(1 .- A)) .*dt\n",
    "#     B += (Db .* Lb .+ A .*B .*B .- (k .+f) .*B) .*dt\n",
    "# end\n",
    "\n",
    "# heatmap(A, c=:inferno, size = (500,500), cbar = true, ticks = false, background = false , bordercolor =:black)"
   ]
  },
  {
   "cell_type": "code",
   "execution_count": null,
   "metadata": {},
   "outputs": [],
   "source": [
    "new_grid = copy(grid)\n",
    "t = Animation()\n",
    "for p in 1:10000\n",
    "    for x in 1:n\n",
    "        for y in 1:n\n",
    "            a = grid[x, y, 1]\n",
    "            b = grid[x, y, 2]\n",
    "            La = Laplacian(1, x, y, grid)\n",
    "            Lb = Laplacian(2, x, y, grid)\n",
    "            new_grid[x, y, 1] = a + (Da*La - a*b*b + f*(1-a))*dt\n",
    "            new_grid[x, y, 2] = b + (Db*Lb + a*b*b - (k+f)*b)*dt\n",
    "\n",
    "            new_grid[x, y, 1] = max(0, min(new_grid[x, y, 1], 1))\n",
    "            new_grid[x, y, 2] = max(0, min(new_grid[x, y, 2], 1))\n",
    "        end\n",
    "    end\n",
    "    grid .= new_grid\n",
    "    if p%100 == 0\n",
    "        println(p)\n",
    "        plt = heatmap(grid[:, :, 2], c=:inferno, size = (500,500), cbar = false, ticks = false, background = false , bordercolor =:black)\n",
    "        frame(t, plt)\n",
    "    end \n",
    "end\n",
    "gif(t,\"Labyrinth2.gif\", fps = 10)\n",
    "\n",
    "#p1 = heatmap(grid[:, :, 1], c=:inferno, clim=(0, 1), title = \"A\")\n",
    "#recimg = heatmap(grid[:, :, 2], c=:inferno, clim=(0, 1),cbar = false, aspect_ratio =:1, size = (500,500), axis = false, background = false)\n",
    "#plot(p1,p2, layout = (1,2), xlimits = (0,200), aspect_ratio =:1, size = (1200,500), cbar = true)\n"
   ]
  },
  {
   "attachments": {},
   "cell_type": "markdown",
   "metadata": {},
   "source": [
    "## Worms"
   ]
  },
  {
   "cell_type": "code",
   "execution_count": null,
   "metadata": {},
   "outputs": [],
   "source": [
    "using Plots\n",
    "\n",
    "#Define the parameters\n",
    "Da = 1\n",
    "Db = 0.5\n",
    "n = 200\n",
    "dt = 1\n",
    "#Worms\n",
    "f = 0.050\n",
    "k = 0.065\n",
    "\n",
    "#Initialise grid\n",
    "grid = zeros(Float64, n, n, 2)\n",
    "grid[:, :, 1] .= 1\n",
    "\n",
    "#Set up initial condition\n",
    "for i in 1:100\n",
    "    r = rand(25:n-25)\n",
    "    s = rand(25:n-25)\n",
    "    grid[r:r+1, s:s+1, 2] .= 1\n",
    "end\n",
    "\n",
    "#Define wrap function\n",
    "function wrap(x)\n",
    "    if x < 1\n",
    "        x = n\n",
    "    elseif x > n \n",
    "        x = 1\n",
    "    end\n",
    "    return x\n",
    "end\n",
    "#Define Laplacian function\n",
    "function Laplacian(a, x, y, grid)\n",
    "    lap = -grid[x, y, a]\n",
    "    lap += (grid[wrap(x+1), y, a] + grid[wrap(x-1), y, a] + grid[x, wrap(y+1), a] + grid[x, wrap(y-1), a])*0.2\n",
    "    lap += (grid[wrap(x+1), wrap(y+1), a] + grid[wrap(x+1), wrap(y-1), a] + grid[wrap(x-1), wrap(y+1), a] + grid[wrap(x-1), wrap(y-1), a])*0.05\n",
    "    return lap\n",
    "end\n",
    "\n",
    "new_grid = copy(grid)\n",
    "t = Animation()\n",
    "for p in 1:1000\n",
    "    for x in 1:n\n",
    "        for y in 1:n\n",
    "            a = grid[x, y, 1]\n",
    "            b = grid[x, y, 2]\n",
    "            La = Laplacian(1, x, y, grid)\n",
    "            Lb = Laplacian(2, x, y, grid)\n",
    "            new_grid[x, y, 1] = a + (Da*La - a*b*b + f*(1-a))*dt\n",
    "            new_grid[x, y, 2] = b + (Db*Lb + a*b*b - (k+f)*b)*dt\n",
    "\n",
    "            new_grid[x, y, 1] = max(0, min(new_grid[x, y, 1], 1))\n",
    "            new_grid[x, y, 2] = max(0, min(new_grid[x, y, 2], 1))\n",
    "        end\n",
    "    end\n",
    "    grid .= new_grid\n",
    "    if p%100 == 0\n",
    "        println(p)\n",
    "        plt = heatmap(grid[:, :, 2], c=:inferno, size = (500,500), cbar = false, ticks = false, background = false , bordercolor =:black)\n",
    "        frame(t, plt)\n",
    "    end\n",
    "end\n",
    "\n",
    "gif(t,\"worm1.gif\", fps = 15)"
   ]
  },
  {
   "attachments": {},
   "cell_type": "markdown",
   "metadata": {},
   "source": [
    "## Spots"
   ]
  },
  {
   "cell_type": "code",
   "execution_count": null,
   "metadata": {},
   "outputs": [],
   "source": [
    "using Plots\n",
    "\n",
    "#Define the parameters\n",
    "Da = 1\n",
    "Db = 0.5\n",
    "n = 200\n",
    "dt = 1\n",
    "\n",
    "#Spots\n",
    "f = 0.042\n",
    "k = 0.065\n",
    "\n",
    "#Initialise grid\n",
    "grid = zeros(Float64, n, n, 2)\n",
    "grid[:, :, 1] .= 1\n",
    "\n",
    "#Set up initial condition\n",
    "for i in 1:100\n",
    "    r = rand(25:n-25)\n",
    "    s = rand(25:n-25)\n",
    "    grid[r:r+1, s:s+1, 2] .= 1\n",
    "end\n",
    "\n",
    "#Define wrap function\n",
    "function wrap(x)\n",
    "    if x < 1\n",
    "        x = n\n",
    "    elseif x > n \n",
    "        x = 1\n",
    "    end\n",
    "    return x\n",
    "end\n",
    "\n",
    "#Define Laplacian function\n",
    "function Laplacian(a, x, y, grid)\n",
    "    lap = -grid[x, y, a]\n",
    "    lap += (grid[wrap(x+1), y, a] + grid[wrap(x-1), y, a] + grid[x, wrap(y+1), a] + grid[x, wrap(y-1), a])*0.2\n",
    "    lap += (grid[wrap(x+1), wrap(y+1), a] + grid[wrap(x+1), wrap(y-1), a] + grid[wrap(x-1), wrap(y+1), a] + grid[wrap(x-1), wrap(y-1), a])*0.05\n",
    "    return lap\n",
    "end\n",
    "\n",
    "new_grid = copy(grid)\n",
    "\n",
    "t = Animation()\n",
    "for p in 1:1000\n",
    "    for x in 1:n\n",
    "        for y in 1:n\n",
    "            a = grid[x, y, 1]\n",
    "            b = grid[x, y, 2]\n",
    "            La = Laplacian(1, x, y, grid)\n",
    "            Lb = Laplacian(2, x, y, grid)\n",
    "            new_grid[x, y, 1] = a + (Da*La - a*b*b + f*(1-a))*dt\n",
    "            new_grid[x, y, 2] = b + (Db*Lb + a*b*b - (k+f)*b)*dt\n",
    "\n",
    "            new_grid[x, y, 1] = max(0, min(new_grid[x, y, 1], 1))\n",
    "            new_grid[x, y, 2] = max(0, min(new_grid[x, y, 2], 1))\n",
    "        end\n",
    "    end\n",
    "    grid .= new_grid\n",
    "    if p%100 == 0\n",
    "        println(p)\n",
    "        plt = heatmap(grid[:, :, 2], c=:inferno, size = (500,500), cbar = false, ticks = false, background = false , bordercolor =:black)\n",
    "        frame(t, plt)\n",
    "    end\n",
    "end\n",
    "gif(t,\"spot1.gif\", fps = 15)"
   ]
  },
  {
   "cell_type": "markdown",
   "metadata": {},
   "source": [
    "# Misc"
   ]
  },
  {
   "cell_type": "code",
   "execution_count": 9,
   "metadata": {},
   "outputs": [
    {
     "name": "stdout",
     "output_type": "stream",
     "text": [
      "100\n"
     ]
    },
    {
     "name": "stdout",
     "output_type": "stream",
     "text": [
      "200\n"
     ]
    },
    {
     "name": "stdout",
     "output_type": "stream",
     "text": [
      "300\n"
     ]
    },
    {
     "name": "stdout",
     "output_type": "stream",
     "text": [
      "400"
     ]
    },
    {
     "name": "stdout",
     "output_type": "stream",
     "text": [
      "\n",
      "500"
     ]
    },
    {
     "name": "stdout",
     "output_type": "stream",
     "text": [
      "\n",
      "600\n"
     ]
    },
    {
     "name": "stdout",
     "output_type": "stream",
     "text": [
      "700"
     ]
    },
    {
     "name": "stdout",
     "output_type": "stream",
     "text": [
      "\n",
      "800\n"
     ]
    },
    {
     "name": "stdout",
     "output_type": "stream",
     "text": [
      "900"
     ]
    },
    {
     "name": "stdout",
     "output_type": "stream",
     "text": [
      "\n",
      "1000\n"
     ]
    },
    {
     "name": "stdout",
     "output_type": "stream",
     "text": [
      "1100\n"
     ]
    }
   ],
   "source": [
    "using Plots\n",
    "\n",
    "#Define the parameters\n",
    "Da = 1\n",
    "Db = 0.5\n",
    "m = 500\n",
    "n = 500\n",
    "dt = 1\n",
    "\n",
    "#Solitons f = 0.03 ; k = 0.062\n",
    "#Pulsating Solitons f = 0.025 ; k = 0.06\n",
    "#Holes f = 0.039 ; k = 0.058\n",
    "#Moving holes \n",
    "f = 0.014 ; k = 0.054\n",
    "#Waves f = 0.014 ; k = 0.045\n",
    "\n",
    "\n",
    "#Initialise grid\n",
    "grid = zeros(Float64, m, n, 2)\n",
    "grid[:, :, 1] .= 1\n",
    "grid[:, :, 2] .= 0\n",
    "\n",
    "#Define wrap function\n",
    "function wrap(x)\n",
    "    if x < 1\n",
    "        x = n\n",
    "    elseif x > n \n",
    "        x = 1\n",
    "    end\n",
    "    return x\n",
    "end\n",
    "\n",
    "#Set up initial condition\n",
    "for i in 1:10\n",
    "    r = rand(1:m)\n",
    "    s = rand(1:n)\n",
    "    grid[r:r+1, s:s+1, 2] .= 1\n",
    "end\n",
    "\n",
    "#Define Laplacian function\n",
    "function Laplacian(a, x, y, grid)\n",
    "    lap = -grid[x, y, a]\n",
    "    lap += (grid[wrap(x+1), y, a] + grid[wrap(x-1), y, a] + grid[x, wrap(y+1), a] + grid[x, wrap(y-1), a])*0.2\n",
    "    lap += (grid[wrap(x+1), wrap(y+1), a] + grid[wrap(x+1), wrap(y-1), a] + grid[wrap(x-1), wrap(y+1), a] + grid[wrap(x-1), wrap(y-1), a])*0.05\n",
    "    return lap\n",
    "end\n",
    "\n",
    "new_grid = copy(grid)\n",
    "\n",
    "t = Animation()\n",
    "for p in 1:5000\n",
    "    for x in 1:m\n",
    "        for y in 1:n\n",
    "            a = grid[x, y, 1]\n",
    "            b = grid[x, y, 2]\n",
    "            La = Laplacian(1, x, y, grid)\n",
    "            Lb = Laplacian(2, x, y, grid)\n",
    "            new_grid[x, y, 1] = a + (Da*La - a*b*b + f*(1-a))*dt\n",
    "            new_grid[x, y, 2] = b + (Db*Lb + a*b*b - (k+f)*b)*dt\n",
    "\n",
    "            new_grid[x, y, 1] = max(0, min(new_grid[x, y, 1], 1))\n",
    "            new_grid[x, y, 2] = max(0, min(new_grid[x, y, 2], 1))\n",
    "        end\n",
    "    end\n",
    "    grid .= new_grid\n",
    "    if p%100 == 0\n",
    "        println(p)\n",
    "        plt = heatmap(grid[:, :, 2], c=:inferno, size = (500, 500), cbar = false, ticks = false, background = false , bordercolor =:black)\n",
    "        frame(t, plt)\n",
    "    end\n",
    "end\n",
    "gif(t, \"mh.gif\", fps = 10)"
   ]
  }
 ],
 "metadata": {
  "kernelspec": {
   "display_name": "Julia 1.8.5",
   "language": "julia",
   "name": "julia-1.8"
  },
  "language_info": {
   "file_extension": ".jl",
   "mimetype": "application/julia",
   "name": "julia",
   "version": "1.8.5"
  },
  "orig_nbformat": 4
 },
 "nbformat": 4,
 "nbformat_minor": 2
}
